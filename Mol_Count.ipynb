{
 "cells": [
  {
   "cell_type": "code",
   "execution_count": 2,
   "id": "b3bb9c87",
   "metadata": {},
   "outputs": [
    {
     "name": "stdout",
     "output_type": "stream",
     "text": [
      "Number of Molecules = 6\n"
     ]
    }
   ],
   "source": [
    "import numpy as np\n",
    "from numpy.linalg import eigvals\n",
    "\n",
    "from taffi_functions import *\n",
    "\n",
    "A = Table_generator(*xyz_parse('0.xyz'))\n",
    "D = np.diag(A.sum(axis=1))\n",
    "\n",
    "print(f'Number of Molecules = {(eigvals(D-A) < 10**-10).sum()}')"
   ]
  }
 ],
 "metadata": {
  "kernelspec": {
   "display_name": "Python 3 (ipykernel)",
   "language": "python",
   "name": "python3"
  },
  "language_info": {
   "codemirror_mode": {
    "name": "ipython",
    "version": 3
   },
   "file_extension": ".py",
   "mimetype": "text/x-python",
   "name": "python",
   "nbconvert_exporter": "python",
   "pygments_lexer": "ipython3",
   "version": "3.9.7"
  }
 },
 "nbformat": 4,
 "nbformat_minor": 5
}
