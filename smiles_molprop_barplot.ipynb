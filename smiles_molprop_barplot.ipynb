{
 "cells": [
  {
   "cell_type": "markdown",
   "id": "33e9d1fb",
   "metadata": {},
   "source": [
    "### This script generates a bar plot visualizing molecular properties, using molecule images from SMILES strings as x-axis labels"
   ]
  },
  {
   "cell_type": "code",
   "execution_count": 1,
   "id": "d1358002",
   "metadata": {},
   "outputs": [],
   "source": [
    "import io\n",
    "from rdkit import Chem\n",
    "from rdkit.Chem import Draw\n",
    "import matplotlib as mpl\n",
    "import matplotlib.pyplot as plt"
   ]
  },
  {
   "cell_type": "code",
   "execution_count": 2,
   "id": "d2433554",
   "metadata": {},
   "outputs": [],
   "source": [
    "def plot_molvbar(data_dict,figname=None):\n",
    "\n",
    "    # Adjust linewidth globally\n",
    "    mpl.rcParams['axes.linewidth'] = 0.001  # Set to a very small value\n",
    "\n",
    "    # Extract SMILES strings and properties\n",
    "    smiles_list = list(data_dict.keys())\n",
    "    properties =  list(data_dict.values())\n",
    "\n",
    "    # Function to generate molecular images\n",
    "    def generate_mol_image(smiles):\n",
    "        mol = Chem.MolFromSmiles(smiles)\n",
    "        return Draw.MolToImage(mol,size=(300, 200))\n",
    "\n",
    "    # Convert images to a displayable format (e.g., temporary PNG files)\n",
    "    def image_to_buffer(image):\n",
    "        buffer = io.BytesIO()\n",
    "        image.save(buffer, format='PNG') \n",
    "        return buffer.getvalue()\n",
    "\n",
    "    # Generate image data\n",
    "    mol_images = [generate_mol_image(smiles) for smiles in smiles_list]\n",
    "    image_buffers = [image_to_buffer(img) for img in mol_images]\n",
    "\n",
    "    # Clear previous x-axis settings\n",
    "    plt.clf() \n",
    "\n",
    "    # Create the bar plot\n",
    "\n",
    "    color_list = [(0.05,0.35,0.75),(0.05,0.8,0.6),(0.9,0.3,0.05),(0.35,0.7,0.9),(0.9,0.5,0.7),(0.9,0.6,0.05),(0.95,0.9,0.25),(0.05,0.05,0.05)]*10   # Supposedly more CB-friendly\n",
    "\n",
    "    plt.figure(figsize=(9, 6))  # Adjust figure size as needed\n",
    "\n",
    "    # Add molecule images as x-axis labels\n",
    "    for i, buffer in enumerate(image_buffers):\n",
    "        img = plt.imread(io.BytesIO(buffer))  # Read image from buffer\n",
    "        offset = min(properties) - 0.75  # Offset for placing below the bar\n",
    "        plt.imshow(img, aspect='auto', extent=(i-0.25, i+0.25, offset, offset+0.5))\n",
    "\n",
    "    for count_i, i in enumerate(properties):\n",
    "        plt.bar(count_i,i,color=color_list[count_i],alpha=0.5,width=0.169,align='center')\n",
    "        plt.scatter(count_i,i,color=color_list[count_i],marker='o',alpha=0.75, s=450)\n",
    "\n",
    "    # Borders\n",
    "    plt.axhline(y=0, color='black', linestyle='-',linewidth=2.5) \n",
    "    plt.axhline(y=max(properties)+0.5, color='black', linestyle='-',linewidth=2.5)\n",
    "    plt.vlines([-0.5,len(smiles_list)-0.5], ymin=0, ymax=max(properties)+0.5, colors='black',linewidth=2.5)\n",
    "    plt.xlim(-0.51, len(smiles_list)-0.49) \n",
    "    plt.xticks([])\n",
    "    plt.yticks(range(int(min(properties)),int(max(properties)+2)))\n",
    "\n",
    "    # Labels and Title\n",
    "    plt.xlabel(\"Molecules\")\n",
    "    plt.ylabel(\"Molecular Property\")\n",
    "    plt.title(\"Molecular Property\")\n",
    "    plt.tight_layout() \n",
    "\n",
    "    plt.show()\n",
    "    \n",
    "    if figname is not None:\n",
    "        plt.savefig(figname)\n",
    "        \n",
    "    return"
   ]
  },
  {
   "cell_type": "code",
   "execution_count": 3,
   "id": "c42e0b72",
   "metadata": {},
   "outputs": [
    {
     "data": {
      "text/plain": [
       "<Figure size 432x288 with 0 Axes>"
      ]
     },
     "metadata": {},
     "output_type": "display_data"
    },
    {
     "data": {
      "image/png": "[encoded data removed]",
      "text/plain": [
       "<Figure size 648x432 with 1 Axes>"
      ]
     },
     "metadata": {
      "needs_background": "light"
     },
     "output_type": "display_data"
    }
   ],
   "source": [
    "# Sample data (replace with your actual dictionary)\n",
    "smiles_dict = {\n",
    "    'O=C(C)Oc1ccccc1C(=O)O': 2.5,  # Aspirin\n",
    "    'NCCCC[C@H](N)C(=O)O': 1.8,    # Asparagine\n",
    "    'CC(=O)OC(=O)C': 0.5,          # Oxalic acid\n",
    "    'COO': 0.21\n",
    "}\n",
    "\n",
    "plot_molvbar(smiles_dict)"
   ]
  }
 ],
 "metadata": {
  "kernelspec": {
   "display_name": "Python 3 (ipykernel)",
   "language": "python",
   "name": "python3"
  },
  "language_info": {
   "codemirror_mode": {
    "name": "ipython",
    "version": 3
   },
   "file_extension": ".py",
   "mimetype": "text/x-python",
   "name": "python",
   "nbconvert_exporter": "python",
   "pygments_lexer": "ipython3",
   "version": "3.9.7"
  }
 },
 "nbformat": 4,
 "nbformat_minor": 5
}
